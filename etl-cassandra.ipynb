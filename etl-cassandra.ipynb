{
 "cells": [
  {
   "cell_type": "markdown",
   "metadata": {},
   "source": [
    "# Initialize"
   ]
  },
  {
   "cell_type": "code",
   "execution_count": 1,
   "metadata": {},
   "outputs": [],
   "source": [
    "# Import Python packages and functions\n",
    "import os\n",
    "\n",
    "import pandas as pd\n",
    "\n",
    "from db_utils import (get_files, read_all_rows, read_header, write_csv,\n",
    "                      cassandra_connect, create_table, insert_rows, run_query, drop_table)"
   ]
  },
  {
   "cell_type": "code",
   "execution_count": 2,
   "metadata": {},
   "outputs": [],
   "source": [
    "# Constants\n",
    "\n",
    "CSV_FILENAME = 'event_data_full.csv'"
   ]
  },
  {
   "cell_type": "markdown",
   "metadata": {},
   "source": [
    "# Part I. ETL Pipeline for Pre-Processing the Files"
   ]
  },
  {
   "cell_type": "code",
   "execution_count": 3,
   "metadata": {},
   "outputs": [],
   "source": [
    "# Create list of filepaths to process original event CSV data files:\n",
    "file_path_list = get_files(os.path.join(os.getcwd(), 'event_data'))\n",
    "\n",
    "# Process the files to create the data file CSV that will be used for Apache Cassandra tables\n",
    "full_data_rows_list = read_all_rows(file_path_list)\n",
    "write_csv(full_data_rows_list, csv_filename=CSV_FILENAME)"
   ]
  },
  {
   "cell_type": "code",
   "execution_count": 4,
   "metadata": {},
   "outputs": [
    {
     "name": "stdout",
     "output_type": "stream",
     "text": [
      "Total number of CSV files = 30\n",
      "\n",
      "Header of the CSV files:\n",
      "artist,auth,firstName,gender,itemInSession,lastName,length,level,location,method,page,registration,sessionId,song,status,ts,userId\n",
      "\n",
      "Header of event_data_full.csv: (column name --> column position)\n",
      "['artist --> 0', 'userFirstName --> 1', 'userGender --> 2', 'itemInSession --> 3', 'userLastName --> 4', 'songLength --> 5', 'level --> 6', 'userLocation --> 7', 'sessionId --> 8', 'songTitle --> 9', 'userId --> 10']\n",
      "\n",
      "Total number of rows = 8,056\n",
      "Rows without artist  = 1,236\n",
      "Rows in the CSV file = 6,821\n"
     ]
    }
   ],
   "source": [
    "# Checking\n",
    "\n",
    "n_rows = len(full_data_rows_list)\n",
    "n_rows_without_artist = sum(1 for r in full_data_rows_list if r[0] == '')\n",
    "with open(CSV_FILENAME, 'r', encoding='utf8') as f:\n",
    "    n_rows_csv = sum(1 for line in f)\n",
    "\n",
    "print('Total number of CSV files = {:,d}'.format(len(file_path_list)))\n",
    "print()\n",
    "print('Header of the CSV files:')\n",
    "!head -n 1 {file_path_list[0]}\n",
    "print()\n",
    "print(f'Header of {CSV_FILENAME:s}: (column name --> column position)')\n",
    "header = read_header(CSV_FILENAME)\n",
    "print([f'{h:s} --> {i:d}' for i, h in enumerate(header)])\n",
    "print()\n",
    "print(f'Total number of rows = {n_rows:,d}')\n",
    "print(f'Rows without artist  = {n_rows_without_artist:,d}')\n",
    "print(f'Rows in the CSV file = {n_rows_csv:,d}')\n",
    "\n",
    "assert n_rows_csv == n_rows - n_rows_without_artist + 1  # plus one, because of the header row"
   ]
  },
  {
   "cell_type": "markdown",
   "metadata": {},
   "source": [
    "# Part II. Apache Cassandra "
   ]
  },
  {
   "cell_type": "markdown",
   "metadata": {},
   "source": [
    "## Create tables\n",
    "\n",
    "With Apache Cassandra the database tables are modeled based on the queries that will be run.\n",
    "\n",
    "Queries:\n",
    "\n",
    "1. Give me the artist, song title and song's length in the music app history that was heard during `sessionId` = 338, and `itemInSession` = 4\n",
    "1. Give me only the following: name of artist, song (sorted by itemInSession) and user (first and last name) for `userid` = 10, `sessionid` = 182\n",
    "1. Give me every user name (first and last) in my music app history who listened to the song 'All Hands Against His Own'"
   ]
  },
  {
   "cell_type": "code",
   "execution_count": 5,
   "metadata": {},
   "outputs": [],
   "source": [
    "cluster, session = cassandra_connect()"
   ]
  },
  {
   "cell_type": "code",
   "execution_count": 6,
   "metadata": {},
   "outputs": [],
   "source": [
    "csv_df = pd.read_csv(CSV_FILENAME)"
   ]
  },
  {
   "cell_type": "markdown",
   "metadata": {},
   "source": [
    "### Query 1\n",
    "\n",
    "Give me the artist, song title and song's length in the music app history that was heard during `sessionId` = 338, and `itemInSession` = 4"
   ]
  },
  {
   "cell_type": "code",
   "execution_count": 7,
   "metadata": {},
   "outputs": [],
   "source": [
    "# Create table and insert rows\n",
    "\n",
    "# The query requires:\n",
    "# - as return values (will be in the SELECT clause): artist, song title, song length\n",
    "# - as filter values (will be in the WHERE clause): sessionId, itemInSession\n",
    "\n",
    "# Therefore, the columns necessary in the table are:\n",
    "# artist, song title, song length, sessionId, itemInSession\n",
    "\n",
    "# We are going to use (sessionId, itemInSession) as composite partition key, because:\n",
    "# - the combination of sessionId and itemInSession is unique\n",
    "# - we need to filter by sessionId and itemInSession (that is, use these columns in the WHERE clause)\n",
    "\n",
    "# So, in the CREATE TABLE statement, let's use first the primary keys (in the order they appear in PRIMARY KEY),\n",
    "# then the other columns in the order they will appear in the SELECT clause.\n",
    "\n",
    "table_name1 = 'sessions'\n",
    "\n",
    "table_info1 = '''\n",
    "(session_id INT,\n",
    " item_in_session INT,\n",
    " artist_name TEXT,\n",
    " song_title TEXT,\n",
    " song_length FLOAT,\n",
    " PRIMARY KEY ((session_id, item_in_session)))'''\n",
    "\n",
    "create_table(table_name1, table_info1, session)\n",
    "insert_rows(table_name1, table_info1,\n",
    "            lambda row: (int(row[8]), int(row[3]), row[0], row[9], float(row[5])),\n",
    "            CSV_FILENAME, session)"
   ]
  },
  {
   "cell_type": "code",
   "execution_count": 8,
   "metadata": {
    "scrolled": true
   },
   "outputs": [
    {
     "name": "stdout",
     "output_type": "stream",
     "text": [
      "Row(artist_name='Faithless', song_title='Music Matters (Mark Knight Dub)', song_length=495.30731201171875)\n"
     ]
    }
   ],
   "source": [
    "# Verify if the data was entered into the table\n",
    "\n",
    "# Query: Give me the artist, song title and song's length in the music app history that was heard during sessionId = 338, and itemInSession = 4\n",
    "\n",
    "query = f'''\n",
    "SELECT artist_name, song_title, song_length\n",
    "FROM {table_name1:s}\n",
    "WHERE session_id = 338 AND item_in_session = 4;'''\n",
    "\n",
    "run_query(query, session)"
   ]
  },
  {
   "cell_type": "code",
   "execution_count": 9,
   "metadata": {},
   "outputs": [
    {
     "data": {
      "text/html": [
       "<div>\n",
       "<style scoped>\n",
       "    .dataframe tbody tr th:only-of-type {\n",
       "        vertical-align: middle;\n",
       "    }\n",
       "\n",
       "    .dataframe tbody tr th {\n",
       "        vertical-align: top;\n",
       "    }\n",
       "\n",
       "    .dataframe thead th {\n",
       "        text-align: right;\n",
       "    }\n",
       "</style>\n",
       "<table border=\"1\" class=\"dataframe\">\n",
       "  <thead>\n",
       "    <tr style=\"text-align: right;\">\n",
       "      <th></th>\n",
       "      <th>artist</th>\n",
       "      <th>songTitle</th>\n",
       "      <th>songLength</th>\n",
       "    </tr>\n",
       "  </thead>\n",
       "  <tbody>\n",
       "    <tr>\n",
       "      <th>0</th>\n",
       "      <td>Faithless</td>\n",
       "      <td>Music Matters (Mark Knight Dub)</td>\n",
       "      <td>495.3073</td>\n",
       "    </tr>\n",
       "  </tbody>\n",
       "</table>\n",
       "</div>"
      ],
      "text/plain": [
       "      artist                        songTitle  songLength\n",
       "0  Faithless  Music Matters (Mark Knight Dub)    495.3073"
      ]
     },
     "execution_count": 9,
     "metadata": {},
     "output_type": "execute_result"
    }
   ],
   "source": [
    "# Checking the with content of the CSV file\n",
    "\n",
    "(csv_df\n",
    " .loc[(csv_df['sessionId'] == 338) & (csv_df['itemInSession'] == 4),\n",
    "      ['artist', 'songTitle', 'songLength']]\n",
    " .reset_index(drop=True))"
   ]
  },
  {
   "cell_type": "markdown",
   "metadata": {},
   "source": [
    "### Query 2\n",
    "\n",
    "Give me only the following: name of artist, song (sorted by `itemInSession`) and user (first and last name) for `userid` = 10, `sessionid` = 182"
   ]
  },
  {
   "cell_type": "code",
   "execution_count": 10,
   "metadata": {},
   "outputs": [],
   "source": [
    "# Create table and insert rows\n",
    "\n",
    "# The query requires:\n",
    "# - as return values (will be in the SELECT clause): artist, song title, user firstname, user lastname\n",
    "# - as filter values (will be in the WHERE clause): userId, sessionId\n",
    "# - column to be sorted by (will be in the clustering column in the CREATE TABLE statement): itemInSession\n",
    "\n",
    "# Therefore, the columns necessary in the table are:\n",
    "# artist, song title, user firstname, user lastname, userId, sessionId, itemInSession\n",
    "\n",
    "# We are going to use (userId, sessionId) as composite partition key, and itemInSession as clustering column, because:\n",
    "# - the combination of userId, sessionId and itemInSession is unique\n",
    "# - we need to filter by userId, sessionId (that is, use these columns in the WHERE clause)\n",
    "# - we need the results sorted by itemInSession\n",
    "\n",
    "# So, in the CREATE TABLE statement, let's use first the primary keys (in the order they appear in PRIMARY KEY),\n",
    "# then the other columns in the order they will appear in the SELECT clause.\n",
    "\n",
    "table_name2 = 'user_session'\n",
    "\n",
    "table_info2 = '''\n",
    "(user_id INT,\n",
    " session_id INT,\n",
    " item_in_session INT,\n",
    " artist_name TEXT,\n",
    " song_title TEXT,\n",
    " user_firstname TEXT,\n",
    " user_lastname TEXT,\n",
    " PRIMARY KEY ((user_id, session_id), item_in_session))'''\n",
    "\n",
    "create_table(table_name2, table_info2, session)\n",
    "insert_rows(table_name2, table_info2,\n",
    "            lambda row: (int(row[10]), int(row[8]), int(row[3]), row[0], row[9], row[1], row[4]),\n",
    "            CSV_FILENAME, session)"
   ]
  },
  {
   "cell_type": "code",
   "execution_count": 11,
   "metadata": {},
   "outputs": [
    {
     "name": "stdout",
     "output_type": "stream",
     "text": [
      "Row(artist_name='Down To The Bone', song_title=\"Keep On Keepin' On\", user_firstname='Sylvie', user_lastname='Cruz')\n",
      "Row(artist_name='Three Drives', song_title='Greece 2000', user_firstname='Sylvie', user_lastname='Cruz')\n",
      "Row(artist_name='Sebastien Tellier', song_title='Kilometer', user_firstname='Sylvie', user_lastname='Cruz')\n",
      "Row(artist_name='Lonnie Gordon', song_title='Catch You Baby (Steve Pitron & Max Sanna Radio Edit)', user_firstname='Sylvie', user_lastname='Cruz')\n"
     ]
    }
   ],
   "source": [
    "# Verify if the data was entered into the table\n",
    "\n",
    "query = f'''\n",
    "SELECT artist_name, song_title, user_firstname, user_lastname\n",
    "FROM {table_name2:s}\n",
    "WHERE user_id = 10 AND session_id = 182;'''\n",
    "\n",
    "run_query(query, session)"
   ]
  },
  {
   "cell_type": "code",
   "execution_count": 12,
   "metadata": {},
   "outputs": [
    {
     "data": {
      "text/html": [
       "<div>\n",
       "<style scoped>\n",
       "    .dataframe tbody tr th:only-of-type {\n",
       "        vertical-align: middle;\n",
       "    }\n",
       "\n",
       "    .dataframe tbody tr th {\n",
       "        vertical-align: top;\n",
       "    }\n",
       "\n",
       "    .dataframe thead th {\n",
       "        text-align: right;\n",
       "    }\n",
       "</style>\n",
       "<table border=\"1\" class=\"dataframe\">\n",
       "  <thead>\n",
       "    <tr style=\"text-align: right;\">\n",
       "      <th></th>\n",
       "      <th>artist</th>\n",
       "      <th>songTitle</th>\n",
       "      <th>userFirstName</th>\n",
       "      <th>userLastName</th>\n",
       "    </tr>\n",
       "  </thead>\n",
       "  <tbody>\n",
       "    <tr>\n",
       "      <th>0</th>\n",
       "      <td>Down To The Bone</td>\n",
       "      <td>Keep On Keepin' On</td>\n",
       "      <td>Sylvie</td>\n",
       "      <td>Cruz</td>\n",
       "    </tr>\n",
       "    <tr>\n",
       "      <th>1</th>\n",
       "      <td>Three Drives</td>\n",
       "      <td>Greece 2000</td>\n",
       "      <td>Sylvie</td>\n",
       "      <td>Cruz</td>\n",
       "    </tr>\n",
       "    <tr>\n",
       "      <th>2</th>\n",
       "      <td>Sebastien Tellier</td>\n",
       "      <td>Kilometer</td>\n",
       "      <td>Sylvie</td>\n",
       "      <td>Cruz</td>\n",
       "    </tr>\n",
       "    <tr>\n",
       "      <th>3</th>\n",
       "      <td>Lonnie Gordon</td>\n",
       "      <td>Catch You Baby (Steve Pitron &amp; Max Sanna Radio...</td>\n",
       "      <td>Sylvie</td>\n",
       "      <td>Cruz</td>\n",
       "    </tr>\n",
       "  </tbody>\n",
       "</table>\n",
       "</div>"
      ],
      "text/plain": [
       "              artist                                          songTitle  \\\n",
       "0   Down To The Bone                                 Keep On Keepin' On   \n",
       "1       Three Drives                                        Greece 2000   \n",
       "2  Sebastien Tellier                                          Kilometer   \n",
       "3      Lonnie Gordon  Catch You Baby (Steve Pitron & Max Sanna Radio...   \n",
       "\n",
       "  userFirstName userLastName  \n",
       "0        Sylvie         Cruz  \n",
       "1        Sylvie         Cruz  \n",
       "2        Sylvie         Cruz  \n",
       "3        Sylvie         Cruz  "
      ]
     },
     "execution_count": 12,
     "metadata": {},
     "output_type": "execute_result"
    }
   ],
   "source": [
    "# Checking the with content of the CSV file\n",
    "\n",
    "(csv_df\n",
    " .loc[(csv_df['userId'] == 10) & (csv_df['sessionId'] == 182),\n",
    "      ['artist', 'songTitle', 'userFirstName', 'userLastName', 'itemInSession']]\n",
    " .sort_values('itemInSession')\n",
    " .drop(columns='itemInSession')\n",
    " .reset_index(drop=True))"
   ]
  },
  {
   "cell_type": "markdown",
   "metadata": {},
   "source": [
    "### Query 3\n",
    "\n",
    "Give me every user name (first and last) in my music app history who listened to the song 'All Hands Against His Own'."
   ]
  },
  {
   "cell_type": "code",
   "execution_count": 13,
   "metadata": {},
   "outputs": [],
   "source": [
    "# Create table and insert rows\n",
    "\n",
    "# The query requires:\n",
    "# - as return values (will be in the SELECT clause): user firstname, user lastname\n",
    "# - as filter values (will be in the WHERE clause): song title\n",
    "\n",
    "# Therefore, the columns necessary in the table are:\n",
    "# user firstname, user lastname, song title\n",
    "\n",
    "# A natural (and naive) choice would be to choose as composite partition key the columns user\n",
    "# firstname, user lastname, song title. But the combination may not be unique,\n",
    "# since multiple people can have the same name. So, to disambiguate the name, we are going to use\n",
    "# the userId instead, which is unique for each user.\n",
    "\n",
    "# Therefore, we are going to use song title as primary key, and userId as clustering column, because:\n",
    "# - the combination of song title, userId is unique\n",
    "# - we need to filter by song title (that is, use this column in the WHERE clause)\n",
    "\n",
    "# So, in the CREATE TABLE statement, let's use first the primary keys (in the order they appear in PRIMARY KEY),\n",
    "# then the other columns in the order they will appear in the SELECT clause.\n",
    "\n",
    "table_name3 = 'music_app_history'\n",
    "\n",
    "table_info3 = '''\n",
    "(song_title TEXT,\n",
    " user_id INT,\n",
    " user_firstname TEXT,\n",
    " user_lastname TEXT,\n",
    " PRIMARY KEY (song_title, user_id));'''\n",
    "\n",
    "create_table(table_name3, table_info3, session)\n",
    "insert_rows(table_name3, table_info3,\n",
    "            lambda row: (row[9], int(row[10]), row[1], row[4]),\n",
    "            CSV_FILENAME, session)"
   ]
  },
  {
   "cell_type": "code",
   "execution_count": 14,
   "metadata": {},
   "outputs": [
    {
     "name": "stdout",
     "output_type": "stream",
     "text": [
      "Row(user_firstname='Jacqueline', user_lastname='Lynch')\n",
      "Row(user_firstname='Tegan', user_lastname='Levine')\n",
      "Row(user_firstname='Sara', user_lastname='Johnson')\n"
     ]
    }
   ],
   "source": [
    "# Verify if the data was entered into the table\n",
    "\n",
    "query = f'''\n",
    "SELECT user_firstname, user_lastname\n",
    "FROM {table_name3:s}\n",
    "WHERE song_title = 'All Hands Against His Own';'''\n",
    "\n",
    "run_query(query, session)"
   ]
  },
  {
   "cell_type": "code",
   "execution_count": 15,
   "metadata": {},
   "outputs": [
    {
     "data": {
      "text/html": [
       "<div>\n",
       "<style scoped>\n",
       "    .dataframe tbody tr th:only-of-type {\n",
       "        vertical-align: middle;\n",
       "    }\n",
       "\n",
       "    .dataframe tbody tr th {\n",
       "        vertical-align: top;\n",
       "    }\n",
       "\n",
       "    .dataframe thead th {\n",
       "        text-align: right;\n",
       "    }\n",
       "</style>\n",
       "<table border=\"1\" class=\"dataframe\">\n",
       "  <thead>\n",
       "    <tr style=\"text-align: right;\">\n",
       "      <th></th>\n",
       "      <th>userFirstName</th>\n",
       "      <th>userLastName</th>\n",
       "    </tr>\n",
       "  </thead>\n",
       "  <tbody>\n",
       "    <tr>\n",
       "      <th>0</th>\n",
       "      <td>Sara</td>\n",
       "      <td>Johnson</td>\n",
       "    </tr>\n",
       "    <tr>\n",
       "      <th>1</th>\n",
       "      <td>Jacqueline</td>\n",
       "      <td>Lynch</td>\n",
       "    </tr>\n",
       "    <tr>\n",
       "      <th>2</th>\n",
       "      <td>Tegan</td>\n",
       "      <td>Levine</td>\n",
       "    </tr>\n",
       "  </tbody>\n",
       "</table>\n",
       "</div>"
      ],
      "text/plain": [
       "  userFirstName userLastName\n",
       "0          Sara      Johnson\n",
       "1    Jacqueline        Lynch\n",
       "2         Tegan       Levine"
      ]
     },
     "execution_count": 15,
     "metadata": {},
     "output_type": "execute_result"
    }
   ],
   "source": [
    "# Checking the with content of the CSV file\n",
    "\n",
    "(csv_df\n",
    " .loc[csv_df['songTitle'] == 'All Hands Against His Own',\n",
    "      ['userFirstName', 'userLastName']]\n",
    " .reset_index(drop=True))"
   ]
  },
  {
   "cell_type": "markdown",
   "metadata": {},
   "source": [
    "## Drop the tables before closing out the sessions"
   ]
  },
  {
   "cell_type": "code",
   "execution_count": 16,
   "metadata": {},
   "outputs": [],
   "source": [
    "tables = (table_name1, table_name2, table_name3)\n",
    "\n",
    "for t in tables:\n",
    "    drop_table(t, session)"
   ]
  },
  {
   "cell_type": "markdown",
   "metadata": {},
   "source": [
    "## Close the session and cluster connection¶"
   ]
  },
  {
   "cell_type": "code",
   "execution_count": 17,
   "metadata": {},
   "outputs": [],
   "source": [
    "session.shutdown()\n",
    "cluster.shutdown()"
   ]
  },
  {
   "cell_type": "code",
   "execution_count": null,
   "metadata": {},
   "outputs": [],
   "source": []
  }
 ],
 "metadata": {
  "kernelspec": {
   "display_name": "Python [conda env:etl-env-cassandra]",
   "language": "python",
   "name": "conda-env-etl-env-cassandra-py"
  },
  "language_info": {
   "codemirror_mode": {
    "name": "ipython",
    "version": 3
   },
   "file_extension": ".py",
   "mimetype": "text/x-python",
   "name": "python",
   "nbconvert_exporter": "python",
   "pygments_lexer": "ipython3",
   "version": "3.7.7"
  },
  "toc": {
   "base_numbering": 1,
   "nav_menu": {},
   "number_sections": true,
   "sideBar": true,
   "skip_h1_title": false,
   "title_cell": "Table of Contents",
   "title_sidebar": "Contents",
   "toc_cell": false,
   "toc_position": {},
   "toc_section_display": true,
   "toc_window_display": false
  },
  "varInspector": {
   "cols": {
    "lenName": 16,
    "lenType": 16,
    "lenVar": 40
   },
   "kernels_config": {
    "python": {
     "delete_cmd_postfix": "",
     "delete_cmd_prefix": "del ",
     "library": "var_list.py",
     "varRefreshCmd": "print(var_dic_list())"
    },
    "r": {
     "delete_cmd_postfix": ") ",
     "delete_cmd_prefix": "rm(",
     "library": "var_list.r",
     "varRefreshCmd": "cat(var_dic_list()) "
    }
   },
   "types_to_exclude": [
    "module",
    "function",
    "builtin_function_or_method",
    "instance",
    "_Feature"
   ],
   "window_display": false
  }
 },
 "nbformat": 4,
 "nbformat_minor": 4
}
